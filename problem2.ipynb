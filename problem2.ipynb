{
 "cells": [
  {
   "cell_type": "code",
   "execution_count": 1,
   "metadata": {},
   "outputs": [],
   "source": [
    "import random \n",
    "import matplotlib.pyplot as plt\n",
    "\n",
    "def load_dataset(dataset): # process the dataset\n",
    "    new_data = []\n",
    "    for i in range(len(dataset)):\n",
    "        ex, attributes = dataset[i].split(\" \", 1)\n",
    "        new_data.append(attributes)\n",
    "    return new_data\n",
    "\n",
    "def change_type(dataset): # change string to int\n",
    "    int_data = list()\n",
    "    for i in range(len(dataset)):\n",
    "        Object = []\n",
    "        for a in range(len(dataset[i])):\n",
    "                if dataset[i][a]==\"1\":\n",
    "                    Object.append(1)\n",
    "                elif dataset[i][a]==\"0\":\n",
    "                    Object.append(0)\n",
    "        int_data.append(Object)\n",
    "    return int_data\n",
    "def process_label(row): # determine if the object is positive or not (numbers of 1 >= 3)\n",
    "    labels = []\n",
    "    for i in range(len(row)):\n",
    "        num = 0\n",
    "        pos = False\n",
    "        count= 0\n",
    "        for a in range(len(row[i])):\n",
    "            if row[i][a] == \"1\" or row[i][a] == \"0\":\n",
    "                count += 1\n",
    "            if row[i][a]==\"1\":\n",
    "                num = num + 1\n",
    "            if num >= 3 and count <= 5:\n",
    "                row[i] += \"1\"\n",
    "                pos = True\n",
    "                break\n",
    "        if pos==False:\n",
    "            row[i] += \"0\" # add the labels directly ibto dataset instead of another list\n",
    "    return 0\n",
    " \n",
    "def add_attributes(dataset, N):\n",
    "    for row in range(len(dataset)):\n",
    "        for i in range(N):\n",
    "            if random.random() > 0.5:\n",
    "                dataset[row] += \"1\"\n",
    "            else:\n",
    "                dataset[row] += \"0\"\n",
    "    return dataset    \n",
    "\n",
    "def draw_func(example_N, example_pres):\n",
    "    plt.plot(example_N, example_pres, 'ro')\n",
    "    plt.ylabel('Number of example-presentations')\n",
    "    plt.xlabel('Number of N')\n",
    "    plt.axis([0, 20, 0, 300])\n",
    "    plt.show()"
   ]
  },
  {
   "cell_type": "code",
   "execution_count": 2,
   "metadata": {},
   "outputs": [],
   "source": [
    "# main algorithm\n",
    "def predict(row, weights):\n",
    "    activation = weights[0]\n",
    "    for i in range(len(row)-1):\n",
    "        activation += weights[i+1] * row[i]\n",
    "    return 1.0 if activation >= 10e-7 else 0.0\n",
    "\n",
    "def train_weights(train, learning_rate, n_epoch):\n",
    "    zero_error_epoch = 0\n",
    "    weights = [0.2 for i in range(len(train[-1]))]\n",
    "    record = False\n",
    "    for epoch in range(n_epoch):\n",
    "        sum_error = 0.0\n",
    "        for row in train:\n",
    "            prediction = predict(row, weights)\n",
    "            error = row[-1] - prediction #list indices must be integers or slices, not list\n",
    "            #print(error)\n",
    "            sum_error += error**2 # get the abs of -1 1 0\n",
    "            weights[0] = weights[0] + learning_rate * error\n",
    "            for i in range(len(row)-1):\n",
    "                weights[i+1] = weights[i+1] + learning_rate * error * row[i]\n",
    "                \n",
    "        if sum_error == 0 and record == False:\n",
    "            zero_error_epoch = epoch + 1\n",
    "            print(\"total need epochs:\", zero_error_epoch)\n",
    "            record = True\n",
    "        #print('>epoch=%d, learning_rate=%.3f, error=%.3f' % (epoch, learning_rate, sum_error))\n",
    "        #print(weights[0], weights[1],weights[2] ,weights[3],weights[4], weights[5])\n",
    "\n",
    "    return weights, zero_error_epoch * len(train) #, example_presentations"
   ]
  },
  {
   "cell_type": "code",
   "execution_count": 3,
   "metadata": {},
   "outputs": [],
   "source": [
    "filename = 'hw3_dataset.txt'\n",
    "f = open(filename, \"r\")\n",
    "lines = f.readlines()\n",
    "dataset = list(lines)\n",
    "new_data = load_dataset(dataset)\n",
    "example_pres = []"
   ]
  },
  {
   "cell_type": "code",
   "execution_count": 4,
   "metadata": {},
   "outputs": [
    {
     "name": "stdout",
     "output_type": "stream",
     "text": [
      "total need epochs: 6\n",
      "----------Leanring rate: 0.2 , N = 1----------\n",
      "Example-presentations:120 \n"
     ]
    }
   ],
   "source": [
    "learning_rate = 0.2\n",
    "n_epoch = 20\n",
    "N = 1\n",
    "add_attributes(new_data, N)\n",
    "process_label(new_data)\n",
    "new_int_data = change_type(new_data)\n",
    "\n",
    "weights ,example_presentations = train_weights(new_int_data, learning_rate, n_epoch)\n",
    "example_pres.append(example_presentations)\n",
    "print(\"----------Leanring rate: 0.2 , N = 1----------\")\n",
    "print(\"Example-presentations:%d \"% example_presentations)"
   ]
  },
  {
   "cell_type": "code",
   "execution_count": 5,
   "metadata": {},
   "outputs": [
    {
     "name": "stdout",
     "output_type": "stream",
     "text": [
      "total need epochs: 13\n",
      "----------Leanring rate: 0.2 , N = 5----------\n",
      "Example-presentations:260 \n"
     ]
    }
   ],
   "source": [
    "new_data = load_dataset(dataset) # need to reload it to prevent the data becoming larger\n",
    "learning_rate = 0.2\n",
    "n_epoch = 20\n",
    "N = 5\n",
    "add_attributes(new_data, N)\n",
    "process_label(new_data)\n",
    "new_int_data = change_type(new_data)\n",
    "\n",
    "weights ,example_presentations = train_weights(new_int_data, learning_rate, n_epoch)\n",
    "example_pres.append(example_presentations)\n",
    "print(\"----------Leanring rate: 0.2 , N = 5----------\")\n",
    "print(\"Example-presentations:%d \"% example_presentations)"
   ]
  },
  {
   "cell_type": "code",
   "execution_count": 6,
   "metadata": {},
   "outputs": [
    {
     "name": "stdout",
     "output_type": "stream",
     "text": [
      "total need epochs: 7\n",
      "----------Leanring rate: 0.2 , N = 10----------\n",
      "Example-presentations:140 \n"
     ]
    }
   ],
   "source": [
    "new_data = load_dataset(dataset) # need to reload it to prevent the data becoming larger\n",
    "learning_rate = 0.2\n",
    "n_epoch = 20\n",
    "N = 10\n",
    "add_attributes(new_data, N)\n",
    "process_label(new_data)\n",
    "new_int_data = change_type(new_data)\n",
    "\n",
    "weights ,example_presentations = train_weights(new_int_data, learning_rate, n_epoch)\n",
    "example_pres.append(example_presentations)\n",
    "print(\"----------Leanring rate: 0.2 , N = 10----------\")\n",
    "print(\"Example-presentations:%d \"% example_presentations)"
   ]
  },
  {
   "cell_type": "code",
   "execution_count": 7,
   "metadata": {},
   "outputs": [
    {
     "name": "stdout",
     "output_type": "stream",
     "text": [
      "total need epochs: 8\n",
      "----------Leanring rate: 0.2 , N = 15----------\n",
      "Example-presentations:160 \n"
     ]
    }
   ],
   "source": [
    "new_data = load_dataset(dataset) # need to reload it to prevent the data becoming larger\n",
    "learning_rate = 0.2\n",
    "n_epoch = 20\n",
    "N = 15\n",
    "add_attributes(new_data, N)\n",
    "process_label(new_data)\n",
    "new_int_data = change_type(new_data)\n",
    "\n",
    "weights ,example_presentations = train_weights(new_int_data, learning_rate, n_epoch)\n",
    "example_pres.append(example_presentations)\n",
    "print(\"----------Leanring rate: 0.2 , N = 15----------\")\n",
    "print(\"Example-presentations:%d \"% example_presentations)"
   ]
  },
  {
   "cell_type": "code",
   "execution_count": 8,
   "metadata": {
    "scrolled": true
   },
   "outputs": [
    {
     "name": "stdout",
     "output_type": "stream",
     "text": [
      "total need epochs: 6\n",
      "----------Leanring rate: 0.2 , N = 20----------\n",
      "Example-presentations:120 \n"
     ]
    }
   ],
   "source": [
    "new_data = load_dataset(dataset) # need to reload it to prevent the data becoming larger\n",
    "learning_rate = 0.2\n",
    "n_epoch = 20\n",
    "N = 20\n",
    "add_attributes(new_data, N)\n",
    "process_label(new_data)\n",
    "new_int_data = change_type(new_data)\n",
    "\n",
    "weights ,example_presentations = train_weights(new_int_data, learning_rate, n_epoch)\n",
    "example_pres.append(example_presentations)\n",
    "print(\"----------Leanring rate: 0.2 , N = 20----------\")\n",
    "print(\"Example-presentations:%d \"% example_presentations)"
   ]
  },
  {
   "cell_type": "code",
   "execution_count": 9,
   "metadata": {},
   "outputs": [
    {
     "data": {
      "image/png": "[encoded data removed]",
      "text/plain": [
       "<Figure size 432x288 with 1 Axes>"
      ]
     },
     "metadata": {
      "needs_background": "light"
     },
     "output_type": "display_data"
    }
   ],
   "source": [
    "draw_func([1, 5, 10, 15, 20], example_pres)"
   ]
  }
 ],
 "metadata": {
  "kernelspec": {
   "display_name": "Python 3",
   "language": "python",
   "name": "python3"
  },
  "language_info": {
   "codemirror_mode": {
    "name": "ipython",
    "version": 3
   },
   "file_extension": ".py",
   "mimetype": "text/x-python",
   "name": "python",
   "nbconvert_exporter": "python",
   "pygments_lexer": "ipython3",
   "version": "3.7.3"
  }
 },
 "nbformat": 4,
 "nbformat_minor": 2
}
