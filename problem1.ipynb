{
 "cells": [
  {
   "cell_type": "code",
   "execution_count": 1,
   "metadata": {},
   "outputs": [],
   "source": [
    "import random \n",
    "import matplotlib.pyplot as plt\n",
    "def load_dataset(dataset): # process the dataset\n",
    "    new_data = []\n",
    "    for i in range(len(dataset)):\n",
    "        ex, attributes = dataset[i].split(\" \", 1)\n",
    "        new_data.append(attributes)\n",
    "    return new_data\n",
    "\n",
    "def change_type(dataset): # change string to int\n",
    "    int_data = list()\n",
    "    for i in range(len(dataset)):\n",
    "        Object = []\n",
    "        for a in range(len(dataset[i])):\n",
    "                if dataset[i][a] == \"1\":\n",
    "                    Object.append(1)\n",
    "                elif dataset[i][a] == \"0\":\n",
    "                    Object.append(0)\n",
    "        int_data.append(Object)\n",
    "    return int_data\n",
    "def process_label(row): # determine if the object is positive or not (numbers of 1 >= 3)\n",
    "    labels = []\n",
    "    for i in range(len(row)):\n",
    "        num = 0\n",
    "        pos = False\n",
    "        for a in range(len(row[i])):\n",
    "            if row[i][a]==\"1\":\n",
    "                num = num + 1\n",
    "            if num >= 3:\n",
    "                row[i] += \"1\"\n",
    "                pos = True\n",
    "                break\n",
    "        if pos==False:\n",
    "            row[i] += \"0\" # add the labels directly ibto dataset instead of another list\n",
    "    return 0\n",
    "\n",
    "def predict(row, weights):\n",
    "    activation = weights[0]\n",
    "    for i in range(len(row)-1):\n",
    "        activation += weights[i+1] * row[i]\n",
    "    return 1.0 if activation >= 10e-7 else 0.0\n",
    "\n",
    "def train_weights(train, learning_rate, n_epoch):\n",
    "    zero_error_epoch = 0\n",
    "    weights = [0.2 for i in range(len(train[-1]))]\n",
    "    record = False\n",
    "    for epoch in range(n_epoch):\n",
    "        sum_error = 0.0\n",
    "        for row in train:\n",
    "            prediction = predict(row, weights)\n",
    "            error = row[-1] - prediction #list indices must be integers or slices, not list\n",
    "            #print(error)\n",
    "            sum_error += error**2 # get the abs of -1 1 0\n",
    "            weights[0] = weights[0] + learning_rate * error\n",
    "            for i in range(len(row)-1):\n",
    "                weights[i+1] = weights[i+1] + learning_rate * error * row[i]\n",
    "                #print(weights[i+1])\n",
    "        \n",
    "        if sum_error == 0 and record == False:\n",
    "            print(\"sss\")\n",
    "            zero_error_epoch = epoch + 1\n",
    "            record = True\n",
    "        #print('>epoch=%d, learning_rate=%.3f, error=%.3f' % (epoch, learning_rate, sum_error))\n",
    "        print(weights[0], weights[1],weights[2] ,weights[3],weights[4], weights[5])\n",
    "\n",
    "    return weights, zero_error_epoch * len(train) #, example_presentations\n",
    "\n",
    "def draw_func(learning_rate, example_pres):\n",
    "    plt.plot(learning_rate, example_pres, 'ro')\n",
    "    plt.ylabel('Number of example-presentations')\n",
    "    plt.xlabel('Learning rate')\n",
    "    plt.axis([0, 1, 0, 300])\n",
    "    plt.show()\n",
    "    "
   ]
  },
  {
   "cell_type": "code",
   "execution_count": 2,
   "metadata": {},
   "outputs": [],
   "source": [
    "filename = 'hw3_dataset.txt'\n",
    "f = open(filename, \"r\")\n",
    "lines = f.readlines()\n",
    "dataset = list(lines)\n",
    "new_data = load_dataset(dataset)\n",
    "#print(new_data)\n",
    "process_label(new_data)\n",
    "new_int_data = change_type(new_data)\n",
    "example_pres = []"
   ]
  },
  {
   "cell_type": "code",
   "execution_count": 3,
   "metadata": {},
   "outputs": [
    {
     "name": "stdout",
     "output_type": "stream",
     "text": [
      "-0.4 0.2 0.2 0.2 -0.2 0.2\n",
      "-0.4000000000000001 0.4 0.4 0.4000000000000001 0.0 0.4\n",
      "-0.6000000000000001 0.4 0.4 0.6000000000000001 0.0 0.2\n",
      "-0.8 0.4000000000000001 0.2 0.6000000000000001 0.0 0.4000000000000001\n",
      "-1.0 0.4000000000000001 0.4 0.4000000000000001 0.0 0.6000000000000001\n",
      "-1.0 0.6000000000000001 0.6000000000000001 0.6000000000000001 0.2 0.4000000000000001\n",
      "-1.0 0.4000000000000001 0.6000000000000001 0.6000000000000001 0.4 0.6000000000000001\n",
      "-1.2 0.6000000000000001 0.4000000000000001 0.4000000000000001 0.4000000000000001 0.6000000000000001\n",
      "-1.2 0.6000000000000001 0.4000000000000001 0.6000000000000001 0.4000000000000001 0.6000000000000001\n",
      "sss\n",
      "-1.2 0.6000000000000001 0.4000000000000001 0.6000000000000001 0.4000000000000001 0.6000000000000001\n",
      "-1.2 0.6000000000000001 0.4000000000000001 0.6000000000000001 0.4000000000000001 0.6000000000000001\n",
      "-1.2 0.6000000000000001 0.4000000000000001 0.6000000000000001 0.4000000000000001 0.6000000000000001\n",
      "-1.2 0.6000000000000001 0.4000000000000001 0.6000000000000001 0.4000000000000001 0.6000000000000001\n",
      "-1.2 0.6000000000000001 0.4000000000000001 0.6000000000000001 0.4000000000000001 0.6000000000000001\n",
      "-1.2 0.6000000000000001 0.4000000000000001 0.6000000000000001 0.4000000000000001 0.6000000000000001\n",
      "-1.2 0.6000000000000001 0.4000000000000001 0.6000000000000001 0.4000000000000001 0.6000000000000001\n",
      "-1.2 0.6000000000000001 0.4000000000000001 0.6000000000000001 0.4000000000000001 0.6000000000000001\n",
      "-1.2 0.6000000000000001 0.4000000000000001 0.6000000000000001 0.4000000000000001 0.6000000000000001\n",
      "-1.2 0.6000000000000001 0.4000000000000001 0.6000000000000001 0.4000000000000001 0.6000000000000001\n",
      "-1.2 0.6000000000000001 0.4000000000000001 0.6000000000000001 0.4000000000000001 0.6000000000000001\n",
      "[-1.2, 0.6000000000000001, 0.4000000000000001, 0.6000000000000001, 0.4000000000000001, 0.6000000000000001]\n",
      "[[1, 1, 0, 0, 1, 1], [0, 0, 0, 0, 0, 0], [1, 1, 1, 1, 1, 1], [1, 1, 0, 1, 0, 1], [1, 0, 0, 1, 0, 0], [0, 1, 0, 0, 1, 0], [1, 0, 1, 0, 1, 1], [0, 1, 1, 1, 0, 1], [1, 1, 0, 1, 1, 1], [0, 1, 1, 1, 0, 1], [1, 0, 0, 1, 1, 1], [1, 1, 1, 1, 0, 1], [0, 1, 0, 0, 0, 0], [0, 0, 0, 0, 0, 0], [0, 1, 0, 1, 0, 0], [0, 0, 1, 1, 0, 0], [1, 1, 0, 0, 0, 0], [0, 0, 0, 1, 0, 0], [0, 1, 0, 1, 1, 1], [0, 0, 0, 1, 1, 0]]\n",
      "----------Leanring rate: 0.2----------\n",
      "Example-presentations:200 \n"
     ]
    }
   ],
   "source": [
    "weights = []\n",
    "learning_rate = 0.2\n",
    "n_epoch = 20\n",
    "weights ,example_presentations = train_weights(new_int_data, learning_rate, n_epoch)\n",
    "example_pres.append(example_presentations)\n",
    "print(weights)\n",
    "print(new_int_data)\n",
    "print(\"----------Leanring rate: 0.2----------\")\n",
    "print(\"Example-presentations:%d \"% example_presentations)"
   ]
  },
  {
   "cell_type": "code",
   "execution_count": 4,
   "metadata": {},
   "outputs": [
    {
     "name": "stdout",
     "output_type": "stream",
     "text": [
      "-0.6000000000000001 0.2 0.6000000000000001 0.20000000000000007 -0.6000000000000001 0.6\n",
      "-0.9999999999999999 0.20000000000000007 0.6 0.6 -0.20000000000000007 1.0\n",
      "-1.4 0.20000000000000007 0.6 1.0 -0.20000000000000007 0.9999999999999999\n",
      "-1.4 1.0 0.6 1.0 0.19999999999999996 0.9999999999999999\n",
      "-1.7999999999999998 1.0 1.0 0.9999999999999999 0.19999999999999996 0.5999999999999999\n",
      "-2.1999999999999997 0.9999999999999999 0.6 0.9999999999999999 0.19999999999999996 0.9999999999999999\n",
      "-2.1999999999999997 0.9999999999999999 1.4 1.4 0.19999999999999996 0.9999999999999999\n",
      "-2.1999999999999997 1.4 1.4 1.4 0.6 1.4\n",
      "-2.5999999999999996 1.4 1.4 1.4 0.6 0.9999999999999999\n",
      "-2.5999999999999996 0.9999999999999999 1.4 1.4 1.0 1.4\n",
      "-2.9999999999999996 1.4 0.9999999999999999 0.9999999999999999 0.9999999999999999 1.4\n",
      "-2.9999999999999996 1.4 0.9999999999999999 1.4 0.9999999999999999 1.4\n",
      "sss\n",
      "-2.9999999999999996 1.4 0.9999999999999999 1.4 0.9999999999999999 1.4\n",
      "-2.9999999999999996 1.4 0.9999999999999999 1.4 0.9999999999999999 1.4\n",
      "-2.9999999999999996 1.4 0.9999999999999999 1.4 0.9999999999999999 1.4\n",
      "-2.9999999999999996 1.4 0.9999999999999999 1.4 0.9999999999999999 1.4\n",
      "-2.9999999999999996 1.4 0.9999999999999999 1.4 0.9999999999999999 1.4\n",
      "-2.9999999999999996 1.4 0.9999999999999999 1.4 0.9999999999999999 1.4\n",
      "-2.9999999999999996 1.4 0.9999999999999999 1.4 0.9999999999999999 1.4\n",
      "-2.9999999999999996 1.4 0.9999999999999999 1.4 0.9999999999999999 1.4\n",
      "[-2.9999999999999996, 1.4, 0.9999999999999999, 1.4, 0.9999999999999999, 1.4]\n",
      "[[1, 1, 0, 0, 1, 1], [0, 0, 0, 0, 0, 0], [1, 1, 1, 1, 1, 1], [1, 1, 0, 1, 0, 1], [1, 0, 0, 1, 0, 0], [0, 1, 0, 0, 1, 0], [1, 0, 1, 0, 1, 1], [0, 1, 1, 1, 0, 1], [1, 1, 0, 1, 1, 1], [0, 1, 1, 1, 0, 1], [1, 0, 0, 1, 1, 1], [1, 1, 1, 1, 0, 1], [0, 1, 0, 0, 0, 0], [0, 0, 0, 0, 0, 0], [0, 1, 0, 1, 0, 0], [0, 0, 1, 1, 0, 0], [1, 1, 0, 0, 0, 0], [0, 0, 0, 1, 0, 0], [0, 1, 0, 1, 1, 1], [0, 0, 0, 1, 1, 0]]\n",
      "----------Leanring rate: 0.4----------\n",
      "Example-presentations:260 \n"
     ]
    }
   ],
   "source": [
    "learning_rate = 0.4\n",
    "n_epoch = 20\n",
    "weights ,example_presentations = train_weights(new_int_data, learning_rate, n_epoch)\n",
    "example_pres.append(example_presentations)\n",
    "print(weights)\n",
    "print(new_int_data)\n",
    "print(\"----------Leanring rate: 0.4----------\")\n",
    "print(\"Example-presentations:%d \"% example_presentations)"
   ]
  },
  {
   "cell_type": "code",
   "execution_count": 5,
   "metadata": {},
   "outputs": [
    {
     "name": "stdout",
     "output_type": "stream",
     "text": [
      "-0.39999999999999997 0.2 0.2 0.2 0.2 0.2\n",
      "sss\n",
      "-0.39999999999999997 0.2 0.2 0.2 0.2 0.2\n",
      "-0.39999999999999997 0.2 0.2 0.2 0.2 0.2\n",
      "-0.39999999999999997 0.2 0.2 0.2 0.2 0.2\n",
      "-0.39999999999999997 0.2 0.2 0.2 0.2 0.2\n",
      "-0.39999999999999997 0.2 0.2 0.2 0.2 0.2\n",
      "-0.39999999999999997 0.2 0.2 0.2 0.2 0.2\n",
      "-0.39999999999999997 0.2 0.2 0.2 0.2 0.2\n",
      "-0.39999999999999997 0.2 0.2 0.2 0.2 0.2\n",
      "-0.39999999999999997 0.2 0.2 0.2 0.2 0.2\n",
      "-0.39999999999999997 0.2 0.2 0.2 0.2 0.2\n",
      "-0.39999999999999997 0.2 0.2 0.2 0.2 0.2\n",
      "-0.39999999999999997 0.2 0.2 0.2 0.2 0.2\n",
      "-0.39999999999999997 0.2 0.2 0.2 0.2 0.2\n",
      "-0.39999999999999997 0.2 0.2 0.2 0.2 0.2\n",
      "-0.39999999999999997 0.2 0.2 0.2 0.2 0.2\n",
      "-0.39999999999999997 0.2 0.2 0.2 0.2 0.2\n",
      "-0.39999999999999997 0.2 0.2 0.2 0.2 0.2\n",
      "-0.39999999999999997 0.2 0.2 0.2 0.2 0.2\n",
      "-0.39999999999999997 0.2 0.2 0.2 0.2 0.2\n",
      "[-0.39999999999999997, 0.2, 0.2, 0.2, 0.2, 0.2]\n",
      "----------Leanring rate: 0.6----------\n",
      "Example-presentations:40 \n"
     ]
    }
   ],
   "source": [
    "weights = []\n",
    "learning_rate = 0.6\n",
    "n_epoch = 20\n",
    "weights ,example_presentations = train_weights(new_int_data, learning_rate, n_epoch)\n",
    "example_pres.append(example_presentations)\n",
    "print(weights)\n",
    "print(\"----------Leanring rate: 0.6----------\")\n",
    "print(\"Example-presentations:%d \"% example_presentations)"
   ]
  },
  {
   "cell_type": "code",
   "execution_count": 6,
   "metadata": {},
   "outputs": [
    {
     "name": "stdout",
     "output_type": "stream",
     "text": [
      "-1.4000000000000001 1.0 1.0 0.19999999999999996 -0.6000000000000001 0.19999999999999996\n",
      "-2.2 1.0 1.0 1.0 0.19999999999999996 1.0\n",
      "-3.0 1.0 1.0 1.8 0.19999999999999996 1.0\n",
      "-3.0 1.8 1.8 2.6 0.19999999999999996 1.0\n",
      "-3.8 1.8 1.0 2.6 0.19999999999999996 1.8\n",
      "-4.6 1.8 1.8 1.8 0.19999999999999996 2.6000000000000005\n",
      "-4.6 2.6 2.6 2.6 1.0 1.8000000000000005\n",
      "-4.6 1.8 2.6 2.6 1.8 2.6000000000000005\n",
      "-5.3999999999999995 2.6 1.8 1.8 1.8 2.6000000000000005\n",
      "-5.3999999999999995 2.6 1.8 2.6 1.8 2.6000000000000005\n",
      "sss\n",
      "-5.3999999999999995 2.6 1.8 2.6 1.8 2.6000000000000005\n",
      "-5.3999999999999995 2.6 1.8 2.6 1.8 2.6000000000000005\n",
      "-5.3999999999999995 2.6 1.8 2.6 1.8 2.6000000000000005\n",
      "-5.3999999999999995 2.6 1.8 2.6 1.8 2.6000000000000005\n",
      "-5.3999999999999995 2.6 1.8 2.6 1.8 2.6000000000000005\n",
      "-5.3999999999999995 2.6 1.8 2.6 1.8 2.6000000000000005\n",
      "-5.3999999999999995 2.6 1.8 2.6 1.8 2.6000000000000005\n",
      "-5.3999999999999995 2.6 1.8 2.6 1.8 2.6000000000000005\n",
      "-5.3999999999999995 2.6 1.8 2.6 1.8 2.6000000000000005\n",
      "-5.3999999999999995 2.6 1.8 2.6 1.8 2.6000000000000005\n",
      "[-5.3999999999999995, 2.6, 1.8, 2.6, 1.8, 2.6000000000000005]\n",
      "----------Leanring rate: 0.8----------\n",
      "Example-presentations:220 \n"
     ]
    }
   ],
   "source": [
    "weights = []\n",
    "learning_rate = 0.8\n",
    "n_epoch = 20\n",
    "weights ,example_presentations = train_weights(new_int_data, learning_rate, n_epoch)\n",
    "example_pres.append(example_presentations)\n",
    "print(weights)\n",
    "print(\"----------Leanring rate: 0.8----------\")\n",
    "print(\"Example-presentations:%d \"% example_presentations)"
   ]
  },
  {
   "cell_type": "code",
   "execution_count": 7,
   "metadata": {},
   "outputs": [
    {
     "data": {
      "image/png": "[encoded data removed]",
      "text/plain": [
       "<Figure size 432x288 with 1 Axes>"
      ]
     },
     "metadata": {
      "needs_background": "light"
     },
     "output_type": "display_data"
    }
   ],
   "source": [
    "draw_func([0.2, 0.4, 0.6, 0.8], example_pres)"
   ]
  },
  {
   "cell_type": "code",
   "execution_count": null,
   "metadata": {},
   "outputs": [],
   "source": []
  }
 ],
 "metadata": {
  "kernelspec": {
   "display_name": "Python 3",
   "language": "python",
   "name": "python3"
  },
  "language_info": {
   "codemirror_mode": {
    "name": "ipython",
    "version": 3
   },
   "file_extension": ".py",
   "mimetype": "text/x-python",
   "name": "python",
   "nbconvert_exporter": "python",
   "pygments_lexer": "ipython3",
   "version": "3.7.3"
  }
 },
 "nbformat": 4,
 "nbformat_minor": 2
}
