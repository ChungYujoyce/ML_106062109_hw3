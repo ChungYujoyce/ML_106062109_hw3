{
 "cells": [
  {
   "cell_type": "code",
   "execution_count": 1,
   "metadata": {},
   "outputs": [],
   "source": [
    "import random \n",
    "import matplotlib\n",
    "def load_dataset(dataset): # process the dataset\n",
    "    new_data = []\n",
    "    for i in range(len(dataset)):\n",
    "        ex, attributes = dataset[i].split(\" \", 1)\n",
    "        new_data.append(attributes)\n",
    "    return new_data\n",
    "\n",
    "def change_type(dataset): # change string to int\n",
    "    int_data = list()\n",
    "    for i in range(len(dataset)):\n",
    "        Object = []\n",
    "        for a in range(len(dataset[i])):\n",
    "                if dataset[i][a] == \"1\":\n",
    "                    Object.append(1)\n",
    "                elif dataset[i][a] == \"0\":\n",
    "                    Object.append(0)\n",
    "        int_data.append(Object)\n",
    "    return int_data\n",
    "def process_label(row): # determine if the object is positive or not (numbers of 1 >= 3)\n",
    "    labels = []\n",
    "    for i in range(len(row)):\n",
    "        num = 0\n",
    "        pos = False\n",
    "        for a in range(len(row[i])):\n",
    "            if row[i][a]==\"1\":\n",
    "                num = num + 1\n",
    "            if num >= 3:\n",
    "                row[i] += \"1\"\n",
    "                pos = True\n",
    "                break\n",
    "        if pos==False:\n",
    "            row[i] += \"0\" # add the labels directly ibto dataset instead of another list\n",
    "        #labels.append(i)\n",
    "    return labels\n",
    "\n",
    "def predict(row, weights):\n",
    "    activation = weights[0]\n",
    "    for i in range(len(row)-1):\n",
    "        activation += weights[i+1] * row[i]\n",
    "    return 1.0 if activation >= 0.0 else 0.0\n",
    "\n",
    "def train_weights(train, labels, learning_rate, n_epoch):\n",
    "    weights = [0.2 for i in range(len(train[0])+1)]\n",
    "    record = False\n",
    "    for epoch in range(n_epoch):\n",
    "        sum_error = 0.0\n",
    "        for row in train:\n",
    "            prediction = predict(row, weights)\n",
    "            error = row[-1] - prediction #list indices must be integers or slices, not list\n",
    "            #print(error)\n",
    "            sum_error += error**2 # get the abs of -1 1 0\n",
    "            weights[0] = weights[0] + learning_rate * error\n",
    "            for i in range(len(row)-1):\n",
    "                weights[i+1] = weights[i+1] + learning_rate * error * row[i]\n",
    "                #print(weights[i+1])\n",
    "        \n",
    "        if sum_error == 0 and record == False:\n",
    "            print(\"sss\")\n",
    "            zero_error_epoch = epoch\n",
    "            record = True\n",
    "        print('>epoch=%d, learning_rate=%.3f, error=%.3f' % (epoch, learning_rate, sum_error))\n",
    "        #print(weights[0], weights[1],weights[2] ,weights[3],weights[4], weights[5])\n",
    "\n",
    "    return weights, zero_error_epoch * len(train) #, example_presentations"
   ]
  },
  {
   "cell_type": "code",
   "execution_count": 2,
   "metadata": {},
   "outputs": [],
   "source": [
    "filename = 'hw3_dataset.txt'\n",
    "f = open(filename, \"r\")\n",
    "lines = f.readlines()\n",
    "dataset = list(lines)\n",
    "new_data = load_dataset(dataset)\n",
    "#print(new_data)\n",
    "labels = process_label(new_data)\n",
    "new_int_data = change_type(new_data)"
   ]
  },
  {
   "cell_type": "code",
   "execution_count": 3,
   "metadata": {},
   "outputs": [
    {
     "name": "stdout",
     "output_type": "stream",
     "text": [
      ">epoch=0, learning_rate=0.200, error=7.000\n",
      ">epoch=1, learning_rate=0.200, error=8.000\n",
      ">epoch=2, learning_rate=0.200, error=6.000\n",
      ">epoch=3, learning_rate=0.200, error=9.000\n",
      ">epoch=4, learning_rate=0.200, error=6.000\n",
      ">epoch=5, learning_rate=0.200, error=5.000\n",
      ">epoch=6, learning_rate=0.200, error=2.000\n",
      "sss\n",
      ">epoch=7, learning_rate=0.200, error=0.000\n",
      ">epoch=8, learning_rate=0.200, error=0.000\n",
      ">epoch=9, learning_rate=0.200, error=0.000\n",
      ">epoch=10, learning_rate=0.200, error=0.000\n",
      ">epoch=11, learning_rate=0.200, error=0.000\n",
      ">epoch=12, learning_rate=0.200, error=0.000\n",
      ">epoch=13, learning_rate=0.200, error=0.000\n",
      ">epoch=14, learning_rate=0.200, error=0.000\n",
      ">epoch=15, learning_rate=0.200, error=0.000\n",
      ">epoch=16, learning_rate=0.200, error=0.000\n",
      ">epoch=17, learning_rate=0.200, error=0.000\n",
      ">epoch=18, learning_rate=0.200, error=0.000\n",
      ">epoch=19, learning_rate=0.200, error=0.000\n",
      "[-1.2, 0.6000000000000001, 0.4000000000000001, 0.6000000000000001, 0.2, 0.6000000000000001, 0.2]\n",
      "----------Leanring rate: 0.2----------\n",
      "Example-presentations:140 \n"
     ]
    }
   ],
   "source": [
    "learning_rate = 0.2\n",
    "n_epoch = 20\n",
    "weights ,example_presentations = train_weights(new_int_data, labels, learning_rate, n_epoch)\n",
    "print(weights)\n",
    "print(\"----------Leanring rate: 0.2----------\")\n",
    "print(\"Example-presentations:%d \"% example_presentations)"
   ]
  },
  {
   "cell_type": "code",
   "execution_count": 4,
   "metadata": {},
   "outputs": [
    {
     "name": "stdout",
     "output_type": "stream",
     "text": [
      ">epoch=0, learning_rate=0.400, error=6.000\n",
      ">epoch=1, learning_rate=0.400, error=7.000\n",
      ">epoch=2, learning_rate=0.400, error=9.000\n",
      ">epoch=3, learning_rate=0.400, error=5.000\n",
      ">epoch=4, learning_rate=0.400, error=2.000\n",
      ">epoch=5, learning_rate=0.400, error=2.000\n",
      "sss\n",
      ">epoch=6, learning_rate=0.400, error=0.000\n",
      ">epoch=7, learning_rate=0.400, error=0.000\n",
      ">epoch=8, learning_rate=0.400, error=0.000\n",
      ">epoch=9, learning_rate=0.400, error=0.000\n",
      ">epoch=10, learning_rate=0.400, error=0.000\n",
      ">epoch=11, learning_rate=0.400, error=0.000\n",
      ">epoch=12, learning_rate=0.400, error=0.000\n",
      ">epoch=13, learning_rate=0.400, error=0.000\n",
      ">epoch=14, learning_rate=0.400, error=0.000\n",
      ">epoch=15, learning_rate=0.400, error=0.000\n",
      ">epoch=16, learning_rate=0.400, error=0.000\n",
      ">epoch=17, learning_rate=0.400, error=0.000\n",
      ">epoch=18, learning_rate=0.400, error=0.000\n",
      ">epoch=19, learning_rate=0.400, error=0.000\n",
      "[-1.7999999999999998, 1.0, 0.6, 1.0, 0.19999999999999996, 1.0, 0.2]\n",
      "----------Leanring rate: 0.4----------\n",
      "Example-presentations:120 \n"
     ]
    }
   ],
   "source": [
    "learning_rate = 0.4\n",
    "n_epoch = 20\n",
    "weights ,example_presentations = train_weights(new_int_data, labels, learning_rate, n_epoch)\n",
    "print(weights)\n",
    "print(\"----------Leanring rate: 0.4----------\")\n",
    "print(\"Example-presentations:%d \"% example_presentations)"
   ]
  },
  {
   "cell_type": "code",
   "execution_count": 5,
   "metadata": {},
   "outputs": [
    {
     "name": "stdout",
     "output_type": "stream",
     "text": [
      ">epoch=0, learning_rate=0.600, error=6.000\n",
      ">epoch=1, learning_rate=0.600, error=9.000\n",
      ">epoch=2, learning_rate=0.600, error=9.000\n",
      ">epoch=3, learning_rate=0.600, error=4.000\n",
      ">epoch=4, learning_rate=0.600, error=2.000\n",
      ">epoch=5, learning_rate=0.600, error=3.000\n",
      ">epoch=6, learning_rate=0.600, error=2.000\n",
      "sss\n",
      ">epoch=7, learning_rate=0.600, error=0.000\n",
      ">epoch=8, learning_rate=0.600, error=0.000\n",
      ">epoch=9, learning_rate=0.600, error=0.000\n",
      ">epoch=10, learning_rate=0.600, error=0.000\n",
      ">epoch=11, learning_rate=0.600, error=0.000\n",
      ">epoch=12, learning_rate=0.600, error=0.000\n",
      ">epoch=13, learning_rate=0.600, error=0.000\n",
      ">epoch=14, learning_rate=0.600, error=0.000\n",
      ">epoch=15, learning_rate=0.600, error=0.000\n",
      ">epoch=16, learning_rate=0.600, error=0.000\n",
      ">epoch=17, learning_rate=0.600, error=0.000\n",
      ">epoch=18, learning_rate=0.600, error=0.000\n",
      ">epoch=19, learning_rate=0.600, error=0.000\n",
      "[-2.8000000000000003, 1.4, 0.7999999999999999, 1.4, 0.7999999999999999, 1.4, 0.2]\n",
      "----------Leanring rate: 0.6----------\n",
      "Example-presentations:140 \n"
     ]
    }
   ],
   "source": [
    "learning_rate = 0.6\n",
    "n_epoch = 20\n",
    "weights ,example_presentations = train_weights(new_int_data, labels, learning_rate, n_epoch)\n",
    "print(weights)\n",
    "print(\"----------Leanring rate: 0.6----------\")\n",
    "print(\"Example-presentations:%d \"% example_presentations)"
   ]
  },
  {
   "cell_type": "code",
   "execution_count": 6,
   "metadata": {},
   "outputs": [
    {
     "name": "stdout",
     "output_type": "stream",
     "text": [
      ">epoch=0, learning_rate=0.800, error=8.000\n",
      ">epoch=1, learning_rate=0.800, error=9.000\n",
      ">epoch=2, learning_rate=0.800, error=7.000\n",
      ">epoch=3, learning_rate=0.800, error=4.000\n",
      "sss\n",
      ">epoch=4, learning_rate=0.800, error=0.000\n",
      ">epoch=5, learning_rate=0.800, error=0.000\n",
      ">epoch=6, learning_rate=0.800, error=0.000\n",
      ">epoch=7, learning_rate=0.800, error=0.000\n",
      ">epoch=8, learning_rate=0.800, error=0.000\n",
      ">epoch=9, learning_rate=0.800, error=0.000\n",
      ">epoch=10, learning_rate=0.800, error=0.000\n",
      ">epoch=11, learning_rate=0.800, error=0.000\n",
      ">epoch=12, learning_rate=0.800, error=0.000\n",
      ">epoch=13, learning_rate=0.800, error=0.000\n",
      ">epoch=14, learning_rate=0.800, error=0.000\n",
      ">epoch=15, learning_rate=0.800, error=0.000\n",
      ">epoch=16, learning_rate=0.800, error=0.000\n",
      ">epoch=17, learning_rate=0.800, error=0.000\n",
      ">epoch=18, learning_rate=0.800, error=0.000\n",
      ">epoch=19, learning_rate=0.800, error=0.000\n",
      "[-3.0, 1.8, 1.0, 1.8, 0.19999999999999996, 1.8, 0.2]\n",
      "----------Leanring rate: 0.8----------\n",
      "Example-presentations:80 \n"
     ]
    }
   ],
   "source": [
    "learning_rate = 0.8\n",
    "n_epoch = 20\n",
    "weights ,example_presentations = train_weights(new_int_data, labels, learning_rate, n_epoch)\n",
    "print(weights)\n",
    "print(\"----------Leanring rate: 0.8----------\")\n",
    "print(\"Example-presentations:%d \"% example_presentations)"
   ]
  },
  {
   "cell_type": "code",
   "execution_count": null,
   "metadata": {},
   "outputs": [],
   "source": []
  },
  {
   "cell_type": "code",
   "execution_count": null,
   "metadata": {},
   "outputs": [],
   "source": []
  }
 ],
 "metadata": {
  "kernelspec": {
   "display_name": "Python 3",
   "language": "python",
   "name": "python3"
  },
  "language_info": {
   "codemirror_mode": {
    "name": "ipython",
    "version": 3
   },
   "file_extension": ".py",
   "mimetype": "text/x-python",
   "name": "python",
   "nbconvert_exporter": "python",
   "pygments_lexer": "ipython3",
   "version": "3.7.3"
  }
 },
 "nbformat": 4,
 "nbformat_minor": 2
}
